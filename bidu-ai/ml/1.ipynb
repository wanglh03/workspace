{
 "cells": [
  {
   "cell_type": "markdown",
   "metadata": {},
   "source": [
    "# 机器学习-实践一：海量文件遍历\n",
    "\n",
    "## 文件树形图\n",
    "\n",
    "查看深度为 3 的文件树形图。"
   ]
  },
  {
   "cell_type": "code",
   "execution_count": 13,
   "metadata": {
    "execution": {
     "iopub.execute_input": "2023-07-10T15:03:43.964613Z",
     "iopub.status.busy": "2023-07-10T15:03:43.963626Z",
     "iopub.status.idle": "2023-07-10T15:03:44.189714Z",
     "shell.execute_reply": "2023-07-10T15:03:44.188512Z",
     "shell.execute_reply.started": "2023-07-10T15:03:43.964578Z"
    },
    "jupyter": {
     "outputs_hidden": false
    },
    "scrolled": true
   },
   "outputs": [
    {
     "name": "stdout",
     "output_type": "stream",
     "text": [
      "./data/\r\n",
      "└── data10954\r\n",
      "    ├── cat_12_test.zip\r\n",
      "    ├── cat_12_train.zip\r\n",
      "    └── train_list.txt\r\n",
      "\r\n",
      "1 directory, 3 files\r\n"
     ]
    }
   ],
   "source": [
    "!tree -L 3 ./data/"
   ]
  },
  {
   "cell_type": "markdown",
   "metadata": {},
   "source": [
    "## 解压函数"
   ]
  },
  {
   "cell_type": "code",
   "execution_count": 6,
   "metadata": {
    "execution": {
     "iopub.execute_input": "2023-07-10T15:00:53.843446Z",
     "iopub.status.busy": "2023-07-10T15:00:53.842825Z",
     "iopub.status.idle": "2023-07-10T15:01:00.391969Z",
     "shell.execute_reply": "2023-07-10T15:01:00.390971Z",
     "shell.execute_reply.started": "2023-07-10T15:00:53.843415Z"
    },
    "jupyter": {
     "outputs_hidden": false
    },
    "scrolled": true
   },
   "outputs": [],
   "source": [
    "import os\n",
    "import zipfile\n",
    "def unzip_data(src_path,target_path):\n",
    "    # 解压原始数据集，将src_path路径下的zip包解压至target_path目录下\n",
    "    if(not os.path.isdir(target_path)):     \n",
    "        z = zipfile.ZipFile(src_path, 'r')\n",
    "        z.extractall(path=target_path)\n",
    "        z.close()\n",
    "\n",
    "unzip_data('data/data10954/cat_12_test.zip','data/data10954/cat_12_test')\n",
    "unzip_data('data/data10954/cat_12_train.zip','data/data10954/cat_12_train')"
   ]
  },
  {
   "cell_type": "markdown",
   "metadata": {},
   "source": [
    "## 统计子文件\n",
    "\n",
    "通过给定目录，统计所有的不同子文件类型及占用内存"
   ]
  },
  {
   "cell_type": "code",
   "execution_count": 11,
   "metadata": {
    "execution": {
     "iopub.execute_input": "2023-07-10T15:01:51.581195Z",
     "iopub.status.busy": "2023-07-10T15:01:51.580226Z",
     "iopub.status.idle": "2023-07-10T15:01:51.588321Z",
     "shell.execute_reply": "2023-07-10T15:01:51.587397Z",
     "shell.execute_reply.started": "2023-07-10T15:01:51.581162Z"
    },
    "jupyter": {
     "outputs_hidden": false
    },
    "scrolled": true
   },
   "outputs": [],
   "source": [
    "size_dict = {}\n",
    "type_dict = {}\n",
    "def get_size_type(path):\n",
    "    \n",
    "    files = os.listdir(path)\n",
    "    for filename in files:\n",
    "        temp_path = os.path.join(path, filename)\n",
    "        if os.path.isdir(temp_path):\n",
    "            # 递归调用函数，实现深度文件名解析\n",
    "            get_size_type(temp_path)     \n",
    "        elif os.path.isfile(temp_path):\n",
    "            # 获取文件后缀\n",
    "            type_name=os.path.splitext(temp_path)[1]   \n",
    "            # 无后缀名的文件\n",
    "            if not type_name:\n",
    "                type_dict.setdefault(\"None\", 0)\n",
    "                type_dict[\"None\"] += 1\n",
    "                size_dict.setdefault(\"None\", 0)\n",
    "                size_dict[\"None\"] += os.path.getsize(temp_path)\n",
    "            # 有后缀的文件\n",
    "            else:\n",
    "                type_dict.setdefault(type_name, 0)\n",
    "                type_dict[type_name] += 1\n",
    "                size_dict.setdefault(type_name, 0)\n",
    "                # 获取文件大小\n",
    "                size_dict[type_name] += os.path.getsize(temp_path)  \n",
    "    \n"
   ]
  },
  {
   "cell_type": "code",
   "execution_count": 12,
   "metadata": {
    "execution": {
     "iopub.execute_input": "2023-07-10T15:01:53.968181Z",
     "iopub.status.busy": "2023-07-10T15:01:53.967294Z",
     "iopub.status.idle": "2023-07-10T15:01:54.005678Z",
     "shell.execute_reply": "2023-07-10T15:01:54.004909Z",
     "shell.execute_reply.started": "2023-07-10T15:01:53.968149Z"
    },
    "jupyter": {
     "outputs_hidden": false
    },
    "scrolled": true
   },
   "outputs": [
    {
     "name": "stdout",
     "output_type": "stream",
     "text": [
      "data/下共有【 .zip】的文件【    2】个,占用【 205.80】MB\r\n",
      "data/下共有【 .txt】的文件【    1】个,占用【   0.11】MB\r\n",
      "data/下共有【 .jpg】的文件【 2400】个,占用【 207.66】MB\r\n",
      "总文件数:  【2403】\r\n",
      "总内存大小:【0.40】GB\r\n"
     ]
    }
   ],
   "source": [
    "path= \"data/\"\n",
    "get_size_type(path)\n",
    "for each_type in type_dict.keys():\n",
    "    print (\"%5s下共有【%5s】的文件【%5d】个,占用【%7.2f】MB\" %     \n",
    "            (path,each_type,type_dict[each_type],\\\n",
    "            size_dict[each_type]/(1024*1024)))\n",
    "print(\"总文件数:  【%d】\"%(sum(type_dict.values())))\n",
    "print(\"总内存大小:【%.2f】GB\"%(sum(size_dict.values())/(1024**3)))"
   ]
  }
 ],
 "metadata": {
  "kernelspec": {
   "display_name": "Python 3 (ipykernel)",
   "language": "python",
   "name": "python3"
  },
  "language_info": {
   "codemirror_mode": {
    "name": "ipython",
    "version": 3
   },
   "file_extension": ".py",
   "mimetype": "text/x-python",
   "name": "python",
   "nbconvert_exporter": "python",
   "pygments_lexer": "ipython3",
   "version": "3.9.12"
  }
 },
 "nbformat": 4,
 "nbformat_minor": 4
}
