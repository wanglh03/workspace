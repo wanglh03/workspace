{
 "cells": [
  {
   "cell_type": "markdown",
   "metadata": {},
   "source": [
    "# 机器学习-实践四：文本词频分析"
   ]
  },
  {
   "cell_type": "code",
   "execution_count": 26,
   "metadata": {
    "collapsed": false,
    "execution": {
     "iopub.execute_input": "2023-08-06T11:50:30.179375Z",
     "iopub.status.busy": "2023-08-06T11:50:30.178856Z",
     "iopub.status.idle": "2023-08-06T11:50:30.540445Z",
     "shell.execute_reply": "2023-08-06T11:50:30.539487Z",
     "shell.execute_reply.started": "2023-08-06T11:50:30.179343Z"
    },
    "jupyter": {
     "outputs_hidden": false
    },
    "scrolled": true
   },
   "outputs": [
    {
     "name": "stdout",
     "output_type": "stream",
     "text": [
      "('父亲', 98)\r\n",
      "('背影', 54)\r\n",
      "('作者', 39)\r\n",
      "('儿子', 28)\r\n",
      "('铁道', 17)\r\n",
      "('表现', 17)\r\n",
      "('感情', 15)\r\n",
      "('文章', 15)\r\n",
      "('橘子', 14)\r\n",
      "('散文', 11)\r\n"
     ]
    },
    {
     "data": {
      "image/png": "[encoded data removed]",
      "text/plain": [
       "<Figure size 640x480 with 1 Axes>"
      ]
     },
     "metadata": {},
     "output_type": "display_data"
    }
   ],
   "source": [
    "import jieba # jieba中文分词库\n",
    "\n",
    "with open('data4/test.txt', 'r', encoding='UTF-8') as novelFile:\n",
    "    novel = novelFile.read()\n",
    "# print(novel)\n",
    "stopwords = [line.strip() for line in open('data4/stop.txt', 'r', encoding='UTF-8').readlines()]\n",
    "novelList = list(jieba.lcut(novel))\n",
    "novelDict = {}\n",
    "\n",
    "# 统计出词频字典\n",
    "for word in novelList:\n",
    "    if word not in stopwords:\n",
    "            # 不统计字数为一的词\n",
    "            if len(word) == 1:\n",
    "                continue\n",
    "            else:\n",
    "                novelDict[word] = novelDict.get(word, 0) + 1\n",
    "\n",
    "# 对词频进行排序\n",
    "novelListSorted = list(novelDict.items())\n",
    "novelListSorted.sort(key=lambda e: e[1], reverse=True)\n",
    "\n",
    "# 打印前10词频\n",
    "topWordNum = 0\n",
    "for topWordTup in novelListSorted[:10]:\n",
    "    print(topWordTup)\n",
    "\n",
    "from matplotlib import pyplot as plt\n",
    "x = [c for c,v in novelListSorted]\n",
    "y = [v for c,v in novelListSorted]\n",
    "plt.plot(x[:10],y[:10],color='r')\n",
    "plt.show()\n",
    "\n",
    "\n"
   ]
  },
  {
   "cell_type": "code",
   "execution_count": null,
   "metadata": {
    "scrolled": true
   },
   "outputs": [],
   "source": []
  }
 ],
 "metadata": {
  "kernelspec": {
   "display_name": "Python 3",
   "language": "python",
   "name": "py35-paddle1.2.0"
  },
  "language_info": {
   "codemirror_mode": {
    "name": "ipython",
    "version": 3
   },
   "file_extension": ".py",
   "mimetype": "text/x-python",
   "name": "python",
   "nbconvert_exporter": "python",
   "pygments_lexer": "ipython3",
   "version": "3.7.4"
  }
 },
 "nbformat": 4,
 "nbformat_minor": 4
}
