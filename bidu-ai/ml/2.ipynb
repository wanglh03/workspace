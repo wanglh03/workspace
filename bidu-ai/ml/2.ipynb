{
 "cells": [
  {
   "cell_type": "markdown",
   "metadata": {},
   "source": [
    "抽象出几个函数：\n",
    "\n",
    "（1）弹栈时计算‘两个数字和运算符组成的算式’结果的函数。\n",
    "\n",
    "（2）判断元素是数字还是运算符的函数。\n",
    "\n",
    "（3）把算式处理成列表形式的函数。如：'-1-2*((-2+3)+(-2/2))' 应该处理成：['-1', '-', '2', '*', '(', '(', '-2', '+', '3', ')', '+', '(', '-2', '/', '2', ')', ')']  。\n",
    "\n",
    "（4）决策函数，决定应该是入栈，弹栈运算，还是弹栈丢弃。\n",
    "\n",
    "（5）主函数，遍历算式列表，计算最终结果。"
   ]
  },
  {
   "cell_type": "code",
   "execution_count": 1,
   "metadata": {
    "collapsed": false,
    "execution": {
     "iopub.execute_input": "2023-08-06T11:14:35.756970Z",
     "iopub.status.busy": "2023-08-06T11:14:35.756295Z",
     "iopub.status.idle": "2023-08-06T11:14:35.760778Z",
     "shell.execute_reply": "2023-08-06T11:14:35.760065Z",
     "shell.execute_reply.started": "2023-08-06T11:14:35.756936Z"
    },
    "jupyter": {
     "outputs_hidden": false
    },
    "scrolled": true
   },
   "outputs": [],
   "source": [
    "import re"
   ]
  },
  {
   "cell_type": "markdown",
   "metadata": {},
   "source": [
    "传入两个数字，一个运算符，根据运算符不同返回相应结果。即计算加减乘除"
   ]
  },
  {
   "cell_type": "code",
   "execution_count": 2,
   "metadata": {
    "collapsed": false,
    "execution": {
     "iopub.execute_input": "2023-08-06T11:14:52.885885Z",
     "iopub.status.busy": "2023-08-06T11:14:52.885119Z",
     "iopub.status.idle": "2023-08-06T11:14:52.891623Z",
     "shell.execute_reply": "2023-08-06T11:14:52.890552Z",
     "shell.execute_reply.started": "2023-08-06T11:14:52.885852Z"
    },
    "jupyter": {
     "outputs_hidden": false
    },
    "scrolled": true
   },
   "outputs": [],
   "source": [
    "def calculate(n1, n2, operator):\n",
    "    '''\n",
    "    :param n1: float\n",
    "    :param n2: float\n",
    "    :param operator: + - * /\n",
    "    :return: float\n",
    "    '''\n",
    "    result = 0\n",
    "    if operator == \"+\":\n",
    "        result = n1 + n2\n",
    "    if operator == \"-\":\n",
    "        result = n1 - n2\n",
    "    if operator == \"*\":\n",
    "        result = n1 * n2\n",
    "    if operator == \"/\":\n",
    "        result = n1 / n2\n",
    "    return result"
   ]
  },
  {
   "cell_type": "code",
   "execution_count": 3,
   "metadata": {
    "collapsed": false,
    "execution": {
     "iopub.execute_input": "2023-08-06T11:15:13.192074Z",
     "iopub.status.busy": "2023-08-06T11:15:13.190670Z",
     "iopub.status.idle": "2023-08-06T11:15:13.196985Z",
     "shell.execute_reply": "2023-08-06T11:15:13.196211Z",
     "shell.execute_reply.started": "2023-08-06T11:15:13.191996Z"
    },
    "jupyter": {
     "outputs_hidden": false
    },
    "scrolled": true
   },
   "outputs": [],
   "source": [
    " # 判断是否是运算符，如果是返回True\n",
    "def is_operator(e):\n",
    "    '''\n",
    "    :param e: str\n",
    "    :return: bool\n",
    "    '''\n",
    "    opers = ['+', '-', '*', '/', '(', ')']\n",
    "    return True if e in opers else False"
   ]
  },
  {
   "cell_type": "code",
   "execution_count": 4,
   "metadata": {
    "collapsed": false,
    "execution": {
     "iopub.execute_input": "2023-08-06T11:15:23.346700Z",
     "iopub.status.busy": "2023-08-06T11:15:23.345924Z",
     "iopub.status.idle": "2023-08-06T11:15:23.353744Z",
     "shell.execute_reply": "2023-08-06T11:15:23.352941Z",
     "shell.execute_reply.started": "2023-08-06T11:15:23.346646Z"
    },
    "jupyter": {
     "outputs_hidden": false
    },
    "scrolled": true
   },
   "outputs": [],
   "source": [
    "# 将算式处理成列表，解决-是负数还是减号\n",
    "def formula_format(formula):\n",
    "    # 去掉算式中的空格\n",
    "    formula = re.sub(' ', '', formula)\n",
    "    # 以 '横杠数字' 分割， 其中正则表达式：(\\-\\d+\\.?\\d*) 括号内：\n",
    "    # \\- 表示匹配横杠开头； \\d+ 表示匹配数字1次或多次；\\.?表示匹配小数点0次或1次;\\d*表示匹配数字1次或多次。\n",
    "    formula_list = [i for i in re.split('(\\-\\d+\\.?\\d*)', formula) if i]\n",
    " \n",
    "    # 最终的算式列表\n",
    "    final_formula = []\n",
    "    for item in formula_list:\n",
    "        # 第一个是以横杠开头的数字（包括小数）final_formula。即第一个是负数，横杠就不是减号\n",
    "        if len(final_formula) == 0 and re.search('^\\-\\d+\\.?\\d*$', item):\n",
    "            final_formula.append(item)\n",
    "            continue\n",
    " \n",
    "        if len(final_formula) > 0:\n",
    "            # 如果final_formal最后一个元素是运算符['+', '-', '*', '/', '('], 则横杠数字不是负数\n",
    "            if re.search('[\\+\\-\\*\\/\\(]$', final_formula[-1]):\n",
    "                final_formula.append(item)\n",
    "                continue\n",
    "        # 按照运算符分割开\n",
    "        item_split = [i for i in re.split('([\\+\\-\\*\\/\\(\\)])', item) if i]\n",
    "        final_formula += item_split\n",
    "    return final_formula"
   ]
  },
  {
   "cell_type": "code",
   "execution_count": 5,
   "metadata": {
    "collapsed": false,
    "execution": {
     "iopub.execute_input": "2023-08-06T11:15:33.982570Z",
     "iopub.status.busy": "2023-08-06T11:15:33.981622Z",
     "iopub.status.idle": "2023-08-06T11:15:33.987990Z",
     "shell.execute_reply": "2023-08-06T11:15:33.987327Z",
     "shell.execute_reply.started": "2023-08-06T11:15:33.982534Z"
    },
    "jupyter": {
     "outputs_hidden": false
    },
    "scrolled": true
   },
   "outputs": [],
   "source": [
    "def decision(tail_op, now_op):\n",
    "    '''\n",
    "    :param tail_op: 运算符栈的最后一个运算符\n",
    "    :param now_op: 从算式列表取出的当前运算符\n",
    "    :return: 1 代表弹栈运算，0 代表弹运算符栈最后一个元素， -1 表示入栈\n",
    "    '''\n",
    "    # 定义4种运算符级别\n",
    "    rate1 = ['+', '-']\n",
    "    rate2 = ['*', '/']\n",
    "    rate3 = ['(']\n",
    "    rate4 = [')']\n",
    " \n",
    "    if tail_op in rate1:\n",
    "        if now_op in rate2 or now_op in rate3:\n",
    "            # 说明连续两个运算优先级不一样，需要入栈\n",
    "            return -1\n",
    "        else:\n",
    "            return 1\n",
    " \n",
    "    elif tail_op in rate2:\n",
    "        if now_op in rate3:\n",
    "            return -1\n",
    "        else:\n",
    "            return 1\n",
    " \n",
    "    elif tail_op in rate3:\n",
    "        if now_op in rate4:\n",
    "            return 0   # ( 遇上 ) 需要弹出 (，丢掉 )\n",
    "        else:\n",
    "            return -1  # 只要栈顶元素为(，当前元素不是)都应入栈。\n",
    "    else:\n",
    "        return -1"
   ]
  },
  {
   "cell_type": "code",
   "execution_count": 6,
   "metadata": {
    "collapsed": false,
    "execution": {
     "iopub.execute_input": "2023-08-06T11:15:36.329129Z",
     "iopub.status.busy": "2023-08-06T11:15:36.328193Z",
     "iopub.status.idle": "2023-08-06T11:15:36.336532Z",
     "shell.execute_reply": "2023-08-06T11:15:36.335779Z",
     "shell.execute_reply.started": "2023-08-06T11:15:36.329096Z"
    },
    "jupyter": {
     "outputs_hidden": false
    },
    "scrolled": true
   },
   "outputs": [],
   "source": [
    "def final_calc(formula_list):\n",
    "    num_stack = []       # 数字栈\n",
    "    op_stack = []        # 运算符栈\n",
    "    for e in formula_list:\n",
    "        operator = is_operator(e)\n",
    "        if not operator:\n",
    "            # 压入数字栈\n",
    "            # 字符串转换为符点数\n",
    "            num_stack.append(float(e))\n",
    "        else:\n",
    "            # 如果是运算符\n",
    "            while True:\n",
    "                # 如果运算符栈等于0无条件入栈\n",
    "                if len(op_stack) == 0:\n",
    "                    op_stack.append(e)\n",
    "                    break\n",
    " \n",
    "                # decision 函数做决策\n",
    "                tag = decision(op_stack[-1], e)\n",
    "                if tag == -1:\n",
    "                    # 如果是-1压入运算符栈进入下一次循环\n",
    "                    op_stack.append(e)\n",
    "                    break\n",
    "                elif tag == 0:\n",
    "                    # 如果是0弹出运算符栈内最后一个(, 丢掉当前)，进入下一次循环\n",
    "                    op_stack.pop()\n",
    "                    break\n",
    "                elif tag == 1:\n",
    "                    # 如果是1弹出运算符栈内最后两个元素，弹出数字栈最后两位元素。\n",
    "                    op = op_stack.pop()\n",
    "                    num2 = num_stack.pop()\n",
    "                    num1 = num_stack.pop()\n",
    "                    # 执行计算\n",
    "                    # 计算之后压入数字栈\n",
    "                    num_stack.append(calculate(num1, num2, op))\n",
    "    # 处理大循环结束后 数字栈和运算符栈中可能还有元素 的情况\n",
    "    while len(op_stack) != 0:\n",
    "        op = op_stack.pop()\n",
    "        num2 = num_stack.pop()\n",
    "        num1 = num_stack.pop()\n",
    "        num_stack.append(calculate(num1, num2, op))\n",
    " \n",
    "    return num_stack, op_stack"
   ]
  },
  {
   "cell_type": "code",
   "execution_count": 7,
   "metadata": {
    "collapsed": false,
    "execution": {
     "iopub.execute_input": "2023-08-06T11:15:39.421366Z",
     "iopub.status.busy": "2023-08-06T11:15:39.420844Z",
     "iopub.status.idle": "2023-08-06T11:15:56.886733Z",
     "shell.execute_reply": "2023-08-06T11:15:56.885807Z",
     "shell.execute_reply.started": "2023-08-06T11:15:39.421334Z"
    },
    "jupyter": {
     "outputs_hidden": false
    },
    "scrolled": true,
    "tags": []
   },
   "outputs": [
    {
     "name": "stdin",
     "output_type": "stream",
     "text": [
      "请输入：\r\n",
      " 1 - 2 * ( (60-30 +(-40/5) * (9-2*5/3 + 7 /3*99/4*2998 +10 * 568/14 )) - (-4*3)/ (16-3*2))\r\n"
     ]
    },
    {
     "name": "stdout",
     "output_type": "stream",
     "text": [
      "算式： 1 - 2 * ( (60-30 +(-40/5) * (9-2*5/3 + 7 /3*99/4*2998 +10 * 568/14 )) - (-4*3)/ (16-3*2))\r\n",
      "计算结果： 2776672.6952380957\r\n"
     ]
    }
   ],
   "source": [
    "if __name__ == '__main__':\n",
    "    formula = input('请输入：\\n')\n",
    "    # formula = \"1 - 2 * ( (60-30 +(-40/5) * (9-2*5/3 + 7 /3*99/4*2998 +10 * 568/14 )) - (-4*3)/ (16-3*2))\"\n",
    "    print(\"算式：\", formula)\n",
    "    formula_list = formula_format(formula)\n",
    "    result, _ = final_calc(formula_list)\n",
    "    print(\"计算结果：\", result[0])"
   ]
  }
 ],
 "metadata": {
  "kernelspec": {
   "display_name": "Python 3",
   "language": "python",
   "name": "py35-paddle1.2.0"
  },
  "language_info": {
   "codemirror_mode": {
    "name": "ipython",
    "version": 3
   },
   "file_extension": ".py",
   "mimetype": "text/x-python",
   "name": "python",
   "nbconvert_exporter": "python",
   "pygments_lexer": "ipython3",
   "version": "3.7.4"
  }
 },
 "nbformat": 4,
 "nbformat_minor": 4
}
